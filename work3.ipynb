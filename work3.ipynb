{
 "cells": [
  {
   "cell_type": "markdown",
   "metadata": {},
   "source": [
    "# 建立模型解决姓名性别配对问题\n",
    "- 组别：第  组\n",
    "- 组长：卢宇翔（软件Q211班 202109601005）\n",
    "### 源代码：\n",
    "- 包导入："
   ]
  },
  {
   "cell_type": "code",
   "execution_count": null,
   "metadata": {},
   "outputs": [],
   "source": [
    "import pandas as pd\n",
    "from collections import defaultdict\n",
    "import math  #数学库\n",
    "import ipywidgets as widgets\t# 控件库\n",
    "from IPython.display import display\t# 显示控件的方法"
   ]
  },
  {
   "cell_type": "markdown",
   "metadata": {},
   "source": [
    "- 读取 roster.csv文件"
   ]
  },
  {
   "cell_type": "code",
   "execution_count": null,
   "metadata": {},
   "outputs": [],
   "source": [
    "train = pd.read_csv('roster.CSV',encoding='gbk')\n",
    "# 加入 encoding='gbk'指定数据的编码方式，以解决中文数据加载问题；\n",
    "train['性别'].replace('女',0,inplace=True)\n",
    "train['性别'].replace('男',1,inplace=True)\n",
    "train\n",
    "# 显示数据"
   ]
  },
  {
   "cell_type": "markdown",
   "metadata": {},
   "source": [
    "- 数据处理"
   ]
  },
  {
   "cell_type": "code",
   "execution_count": null,
   "metadata": {},
   "outputs": [],
   "source": [
    "namesFemale = train[train['性别'] == 0]  #将女生存入namesFemale\n",
    "namesMale = train[train['性别'] == 1]  #将男生存入namesMale\n",
    "totals = {'f': len(namesFemale), #用于存放男女生总数\n",
    "          'm': len(namesMale)}\n",
    "\n",
    "namesFemale  #打印女生"
   ]
  },
  {
   "cell_type": "code",
   "execution_count": null,
   "metadata": {},
   "outputs": [],
   "source": [
    "namesMale  #打印男生"
   ]
  },
  {
   "cell_type": "markdown",
   "metadata": {},
   "source": [
    "- 数据分析"
   ]
  },
  {
   "cell_type": "code",
   "execution_count": null,
   "metadata": {},
   "outputs": [],
   "source": [
    "frequency_list_f = defaultdict(int)\n",
    "for name in namesFemale['姓名']:\n",
    "    for char in name:\n",
    "        frequency_list_f[char] += 1. / totals['f']\n",
    "\n",
    "frequency_list_m = defaultdict(int)\n",
    "for name in namesMale['姓名']:\n",
    "    for char in name:\n",
    "        frequency_list_m[char] += 1. / totals['m']\n",
    "\n",
    "# 以上代码用于计算在所有女生（男生）的名字当中，某个字出现的频率。\n",
    "frequency_list_f #打印女生"
   ]
  },
  {
   "cell_type": "code",
   "execution_count": null,
   "metadata": {},
   "outputs": [],
   "source": [
    "frequency_list_m #打印男生"
   ]
  },
  {
   "cell_type": "markdown",
   "metadata": {},
   "source": [
    "以下代码块借鉴的，建立朴素贝叶斯模型，并平滑处理"
   ]
  },
  {
   "cell_type": "code",
   "execution_count": null,
   "metadata": {},
   "outputs": [],
   "source": [
    "def LaplaceSmooth(char, frequency_list, total, alpha=1.0):\n",
    "    count = frequency_list[char] * total\n",
    "    distinct_chars = len(frequency_list)\n",
    "    freq_smooth = (count + alpha ) / (total + distinct_chars * alpha)\n",
    "    return freq_smooth\n",
    "base_f = math.log(1 - train['性别'].mean())\n",
    "base_f += sum([math.log(1 - frequency_list_f[char]) for char in frequency_list_f])\n",
    "\n",
    "base_m = math.log(train['性别'].mean())\n",
    "base_m += sum([math.log(1 - frequency_list_m[char]) for char in frequency_list_m])\n",
    "\n",
    "bases = {'f': base_f, 'm': base_m}\n",
    "def GetLogProb(char, frequency_list, total):\n",
    "    freq_smooth = LaplaceSmooth(char, frequency_list, total)\n",
    "    return math.log(freq_smooth) - math.log(1 - freq_smooth)\n",
    "def ComputeLogProb(name, bases, totals, frequency_list_m, frequency_list_f):\n",
    "    logprob_m = bases['m']\n",
    "    logprob_f = bases['f']\n",
    "    for char in name:\n",
    "        logprob_m += GetLogProb(char, frequency_list_m, totals['m'])\n",
    "        logprob_f += GetLogProb(char, frequency_list_f, totals['f'])\n",
    "    return {'male': logprob_m, 'female': logprob_f}\n",
    "\n",
    "def GetGender(LogProbs):\n",
    "    return LogProbs['male'] > LogProbs['female']"
   ]
  },
  {
   "cell_type": "markdown",
   "metadata": {},
   "source": [
    "- 模型训练结束，开始进行预测"
   ]
  },
  {
   "cell_type": "code",
   "execution_count": null,
   "metadata": {},
   "outputs": [],
   "source": [
    "#为方便演示，这里采用ipywidgets控件进行输入\n",
    "text = widgets.Text()  #定义一个输入框\n",
    "display(text)  #显示输入框\n",
    "def output(x):    #定义处理输入数据方法\n",
    "    name = x.value\n",
    "    LogProbs = ComputeLogProb(name, bases, totals, frequency_list_m, frequency_list_f)\n",
    "    gender = GetGender(LogProbs)\n",
    "    if gender==1:\n",
    "        print('男')\n",
    "    else:\n",
    "        print('女')\n",
    "text.on_submit(output)    #当输入回车时，调用方法输出结果"
   ]
  }
 ],
 "metadata": {
  "kernelspec": {
   "display_name": "lyriv",
   "language": "python",
   "name": "python3"
  },
  "language_info": {
   "codemirror_mode": {
    "name": "ipython",
    "version": 3
   },
   "file_extension": ".py",
   "mimetype": "text/x-python",
   "name": "python",
   "nbconvert_exporter": "python",
   "pygments_lexer": "ipython3",
   "version": "3.8.18"
  }
 },
 "nbformat": 4,
 "nbformat_minor": 2
}
